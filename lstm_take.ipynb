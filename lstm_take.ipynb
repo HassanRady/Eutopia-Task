{
 "cells": [
  {
   "cell_type": "code",
   "execution_count": 1,
   "metadata": {},
   "outputs": [],
   "source": [
    "import os\n",
    "os.environ[\"CUDA_VISIBLE_DEVICES\"] = \"0\"\n",
    "import numpy as np\n",
    "import pandas as pd\n",
    "import re\n",
    "import seaborn as sns\n",
    "import matplotlib.pyplot as plt\n",
    "\n",
    "from sklearn.model_selection import train_test_split\n",
    "from sklearn.metrics import confusion_matrix\n",
    "\n",
    "import tensorflow as tf\n",
    "from tensorflow.keras import regularizers\n",
    "from tensorflow.keras.optimizers import Adam\n",
    "from tensorflow.keras.preprocessing.text import Tokenizer, text_to_word_sequence\n",
    "from tensorflow.keras.preprocessing.sequence import pad_sequences\n",
    "\n",
    "from nltk.corpus import stopwords\n",
    "from nltk.tokenize import word_tokenize\n",
    "from nltk.stem import WordNetLemmatizer"
   ]
  },
  {
   "cell_type": "code",
   "execution_count": 2,
   "metadata": {},
   "outputs": [
    {
     "data": {
      "text/plain": [
       "'2.1.0'"
      ]
     },
     "execution_count": 2,
     "metadata": {},
     "output_type": "execute_result"
    }
   ],
   "source": [
    "tf.__version__"
   ]
  },
  {
   "cell_type": "code",
   "execution_count": 4,
   "metadata": {},
   "outputs": [
    {
     "name": "stdout",
     "output_type": "stream",
     "text": [
      "1 Physical GPUs, 1 Logical GPUs\n"
     ]
    }
   ],
   "source": [
    "gpus = tf.config.list_physical_devices('GPU')\n",
    "if gpus:\n",
    "    try:\n",
    "    # Currently, memory growth needs to be the same across GPUs\n",
    "        for gpu in gpus:\n",
    "            tf.config.experimental.set_memory_growth(gpu, True)\n",
    "        logical_gpus = tf.config.experimental.list_logical_devices('GPU')\n",
    "        print(len(gpus), \"Physical GPUs,\", len(logical_gpus), \"Logical GPUs\")\n",
    "    except RuntimeError as e:\n",
    "    # Memory growth must be set before GPUs have been initialized\n",
    "        print(e)"
   ]
  },
  {
   "cell_type": "code",
   "execution_count": 5,
   "metadata": {},
   "outputs": [],
   "source": [
    "SEED = 42\n",
    "np.random.seed(SEED)\n",
    "\n",
    "TARGET = \"AI\"\n",
    "DATASET = \"dataset.pickle\""
   ]
  },
  {
   "cell_type": "code",
   "execution_count": 6,
   "metadata": {},
   "outputs": [
    {
     "data": {
      "text/html": [
       "<div>\n",
       "<style scoped>\n",
       "    .dataframe tbody tr th:only-of-type {\n",
       "        vertical-align: middle;\n",
       "    }\n",
       "\n",
       "    .dataframe tbody tr th {\n",
       "        vertical-align: top;\n",
       "    }\n",
       "\n",
       "    .dataframe thead th {\n",
       "        text-align: right;\n",
       "    }\n",
       "</style>\n",
       "<table border=\"1\" class=\"dataframe\">\n",
       "  <thead>\n",
       "    <tr style=\"text-align: right;\">\n",
       "      <th></th>\n",
       "      <th>crunchbase_ID</th>\n",
       "      <th>home_text</th>\n",
       "      <th>aboutus_text</th>\n",
       "      <th>overview_text</th>\n",
       "      <th>whatwedo_text</th>\n",
       "      <th>company_text</th>\n",
       "      <th>whoweare_text</th>\n",
       "      <th>AI</th>\n",
       "    </tr>\n",
       "  </thead>\n",
       "  <tbody>\n",
       "    <tr>\n",
       "      <th>0</th>\n",
       "      <td>1916</td>\n",
       "      <td>Skip to main content Products GPU accelerated ...</td>\n",
       "      <td>NaN</td>\n",
       "      <td>NaN</td>\n",
       "      <td>NaN</td>\n",
       "      <td>NaN</td>\n",
       "      <td>NaN</td>\n",
       "      <td>1</td>\n",
       "    </tr>\n",
       "    <tr>\n",
       "      <th>1</th>\n",
       "      <td>1917</td>\n",
       "      <td>Our AIs Research Company Careers Get in Touch ...</td>\n",
       "      <td>NaN</td>\n",
       "      <td>NaN</td>\n",
       "      <td>NaN</td>\n",
       "      <td>Our AIs Research Company Careers Get in Touch ...</td>\n",
       "      <td>NaN</td>\n",
       "      <td>1</td>\n",
       "    </tr>\n",
       "    <tr>\n",
       "      <th>2</th>\n",
       "      <td>1918</td>\n",
       "      <td>Toggle navigation Product Projects Company His...</td>\n",
       "      <td>NaN</td>\n",
       "      <td>NaN</td>\n",
       "      <td>NaN</td>\n",
       "      <td>NaN</td>\n",
       "      <td>NaN</td>\n",
       "      <td>1</td>\n",
       "    </tr>\n",
       "    <tr>\n",
       "      <th>3</th>\n",
       "      <td>1919</td>\n",
       "      <td>Brainpeek Solutions Create a seamless online u...</td>\n",
       "      <td>Brainpeek Solutions Create a seamless online u...</td>\n",
       "      <td>NaN</td>\n",
       "      <td>NaN</td>\n",
       "      <td>NaN</td>\n",
       "      <td>NaN</td>\n",
       "      <td>1</td>\n",
       "    </tr>\n",
       "    <tr>\n",
       "      <th>4</th>\n",
       "      <td>1920</td>\n",
       "      <td>The Tool Our Languages Services Extract Produc...</td>\n",
       "      <td>The Tool Our Languages Services Extract Produc...</td>\n",
       "      <td>NaN</td>\n",
       "      <td>NaN</td>\n",
       "      <td>NaN</td>\n",
       "      <td>NaN</td>\n",
       "      <td>1</td>\n",
       "    </tr>\n",
       "    <tr>\n",
       "      <th>...</th>\n",
       "      <td>...</td>\n",
       "      <td>...</td>\n",
       "      <td>...</td>\n",
       "      <td>...</td>\n",
       "      <td>...</td>\n",
       "      <td>...</td>\n",
       "      <td>...</td>\n",
       "      <td>...</td>\n",
       "    </tr>\n",
       "    <tr>\n",
       "      <th>4889</th>\n",
       "      <td>2735</td>\n",
       "      <td>Username or Email L senord Remember me Norsk S...</td>\n",
       "      <td>Username or Email L senord Remember me Norsk S...</td>\n",
       "      <td>NaN</td>\n",
       "      <td>NaN</td>\n",
       "      <td>NaN</td>\n",
       "      <td>NaN</td>\n",
       "      <td>0</td>\n",
       "    </tr>\n",
       "    <tr>\n",
       "      <th>4890</th>\n",
       "      <td>5944</td>\n",
       "      <td>Solutions Solution for distributors Covered re...</td>\n",
       "      <td>NaN</td>\n",
       "      <td>NaN</td>\n",
       "      <td>NaN</td>\n",
       "      <td>NaN</td>\n",
       "      <td>NaN</td>\n",
       "      <td>0</td>\n",
       "    </tr>\n",
       "    <tr>\n",
       "      <th>4891</th>\n",
       "      <td>5251</td>\n",
       "      <td>BROWSE PRODUCTS Variety Cases Pasta Mac and Ch...</td>\n",
       "      <td>NaN</td>\n",
       "      <td>NaN</td>\n",
       "      <td>NaN</td>\n",
       "      <td>NaN</td>\n",
       "      <td>NaN</td>\n",
       "      <td>0</td>\n",
       "    </tr>\n",
       "    <tr>\n",
       "      <th>4892</th>\n",
       "      <td>4225</td>\n",
       "      <td>Pricing Documentation Community Changelog Logi...</td>\n",
       "      <td>NaN</td>\n",
       "      <td>NaN</td>\n",
       "      <td>NaN</td>\n",
       "      <td>NaN</td>\n",
       "      <td>NaN</td>\n",
       "      <td>0</td>\n",
       "    </tr>\n",
       "    <tr>\n",
       "      <th>4893</th>\n",
       "      <td>4779</td>\n",
       "      <td>FAQ Jobs Blog Contact FAQ Jobs Blog Contact Sc...</td>\n",
       "      <td>NaN</td>\n",
       "      <td>NaN</td>\n",
       "      <td>NaN</td>\n",
       "      <td>NaN</td>\n",
       "      <td>NaN</td>\n",
       "      <td>0</td>\n",
       "    </tr>\n",
       "  </tbody>\n",
       "</table>\n",
       "<p>4894 rows × 8 columns</p>\n",
       "</div>"
      ],
      "text/plain": [
       "     crunchbase_ID                                          home_text  \\\n",
       "0             1916  Skip to main content Products GPU accelerated ...   \n",
       "1             1917  Our AIs Research Company Careers Get in Touch ...   \n",
       "2             1918  Toggle navigation Product Projects Company His...   \n",
       "3             1919  Brainpeek Solutions Create a seamless online u...   \n",
       "4             1920  The Tool Our Languages Services Extract Produc...   \n",
       "...            ...                                                ...   \n",
       "4889          2735  Username or Email L senord Remember me Norsk S...   \n",
       "4890          5944  Solutions Solution for distributors Covered re...   \n",
       "4891          5251  BROWSE PRODUCTS Variety Cases Pasta Mac and Ch...   \n",
       "4892          4225  Pricing Documentation Community Changelog Logi...   \n",
       "4893          4779  FAQ Jobs Blog Contact FAQ Jobs Blog Contact Sc...   \n",
       "\n",
       "                                           aboutus_text overview_text  \\\n",
       "0                                                   NaN           NaN   \n",
       "1                                                   NaN           NaN   \n",
       "2                                                   NaN           NaN   \n",
       "3     Brainpeek Solutions Create a seamless online u...           NaN   \n",
       "4     The Tool Our Languages Services Extract Produc...           NaN   \n",
       "...                                                 ...           ...   \n",
       "4889  Username or Email L senord Remember me Norsk S...           NaN   \n",
       "4890                                                NaN           NaN   \n",
       "4891                                                NaN           NaN   \n",
       "4892                                                NaN           NaN   \n",
       "4893                                                NaN           NaN   \n",
       "\n",
       "     whatwedo_text                                       company_text  \\\n",
       "0              NaN                                                NaN   \n",
       "1              NaN  Our AIs Research Company Careers Get in Touch ...   \n",
       "2              NaN                                                NaN   \n",
       "3              NaN                                                NaN   \n",
       "4              NaN                                                NaN   \n",
       "...            ...                                                ...   \n",
       "4889           NaN                                                NaN   \n",
       "4890           NaN                                                NaN   \n",
       "4891           NaN                                                NaN   \n",
       "4892           NaN                                                NaN   \n",
       "4893           NaN                                                NaN   \n",
       "\n",
       "     whoweare_text  AI  \n",
       "0              NaN   1  \n",
       "1              NaN   1  \n",
       "2              NaN   1  \n",
       "3              NaN   1  \n",
       "4              NaN   1  \n",
       "...            ...  ..  \n",
       "4889           NaN   0  \n",
       "4890           NaN   0  \n",
       "4891           NaN   0  \n",
       "4892           NaN   0  \n",
       "4893           NaN   0  \n",
       "\n",
       "[4894 rows x 8 columns]"
      ]
     },
     "execution_count": 6,
     "metadata": {},
     "output_type": "execute_result"
    }
   ],
   "source": [
    "df = pd.read_pickle(DATASET)\n",
    "df"
   ]
  },
  {
   "cell_type": "code",
   "execution_count": 7,
   "metadata": {},
   "outputs": [
    {
     "name": "stdout",
     "output_type": "stream",
     "text": [
      "<class 'pandas.core.frame.DataFrame'>\n",
      "RangeIndex: 4894 entries, 0 to 4893\n",
      "Data columns (total 8 columns):\n",
      " #   Column         Non-Null Count  Dtype \n",
      "---  ------         --------------  ----- \n",
      " 0   crunchbase_ID  4894 non-null   object\n",
      " 1   home_text      4894 non-null   object\n",
      " 2   aboutus_text   2212 non-null   object\n",
      " 3   overview_text  66 non-null     object\n",
      " 4   whatwedo_text  50 non-null     object\n",
      " 5   company_text   477 non-null    object\n",
      " 6   whoweare_text  83 non-null     object\n",
      " 7   AI             4894 non-null   int64 \n",
      "dtypes: int64(1), object(7)\n",
      "memory usage: 306.0+ KB\n"
     ]
    }
   ],
   "source": [
    "df.info()"
   ]
  },
  {
   "cell_type": "code",
   "execution_count": 8,
   "metadata": {},
   "outputs": [
    {
     "data": {
      "text/plain": [
       "crunchbase_ID    0.000000\n",
       "home_text        0.000000\n",
       "aboutus_text     0.548018\n",
       "overview_text    0.986514\n",
       "whatwedo_text    0.989783\n",
       "company_text     0.902534\n",
       "whoweare_text    0.983040\n",
       "AI               0.000000\n",
       "dtype: float64"
      ]
     },
     "execution_count": 8,
     "metadata": {},
     "output_type": "execute_result"
    }
   ],
   "source": [
    "df.isnull().mean()"
   ]
  },
  {
   "cell_type": "code",
   "execution_count": 9,
   "metadata": {},
   "outputs": [],
   "source": [
    "def remove_non_alphabets(X):\n",
    "    regs = []\n",
    "    for sent in X:\n",
    "        x = re.sub('[^A-Za-z]',\" \",str(sent))\n",
    "        regs.append(x)\n",
    "    return regs\n",
    "\n",
    "\n",
    "def create_corpus(X):\n",
    "    \"\"\"Decompose text to corpus (e.g. `This is a pen` to [ `This`, `is`, `a`, `pen` ])\n",
    "    \n",
    "    Arguments:\n",
    "        texts: list(str) / Text list.\n",
    "        \n",
    "    Returns:\n",
    "        list(str) / Corpus list.\n",
    "    \"\"\"\n",
    "    \n",
    "    corpus = []\n",
    "    for sent in X:\n",
    "        words = [ word.lower() for word in word_tokenize(sent) ]\n",
    "        corpus.append(words)\n",
    "        \n",
    "    return corpus\n",
    "\n",
    "\n",
    "def remove_stopwords(X):\n",
    "    stop_words = set(stopwords.words('english'))\n",
    "    filterd_words = []\n",
    "    keep = [\"n't\", \"not\", \"no\"]\n",
    "    for words in X:\n",
    "        x = [word for word in words if word not in stop_words or word in keep] \n",
    "        filterd_words.append(x)\n",
    "    return filterd_words\n",
    "\n",
    "\n",
    "def lemmatize(X):\n",
    "    \"\"\"taking the root of every word\"\"\"\n",
    "    lemmatized = []\n",
    "    for words in X:\n",
    "        x = [WordNetLemmatizer().lemmatize(word) for word in words]\n",
    "        lemmatized.append(x)\n",
    "    return lemmatized\n",
    "\n",
    "\n",
    "def remove_unnecessary_words(X):\n",
    "    \"\"\"taking words that are bigger than 2\"\"\"\n",
    "    filterd = []\n",
    "    for words in X:\n",
    "        x = [word for word in words if len(word) >= 2]\n",
    "        filterd.append(x)\n",
    "    return filterd    \n",
    "\n",
    "def tokenize_and_pad(X, tokenizer=None, padded=True):\n",
    "    if tokenizer is None:\n",
    "        tokenizer = Tokenizer(num_words=5000, oov_token='<UNK>')\n",
    "        tokenizer.fit_on_texts(X)\n",
    "        seq = tokenizer.texts_to_sequences(X)\n",
    "        tmp = seq\n",
    "        seq_padded = pad_sequences(seq, maxlen=input_length, padding='post', truncating='post')\n",
    "        return tokenizer, seq_padded\n",
    "    seq = tokenizer.texts_to_sequences(X)\n",
    "    seq_padded = pad_sequences(seq, maxlen=input_length, padding='post', truncating='post')\n",
    "    return seq_padded"
   ]
  },
  {
   "cell_type": "code",
   "execution_count": 10,
   "metadata": {},
   "outputs": [],
   "source": [
    "df_home_text = df[['home_text', 'AI']].set_axis( ['text', 'AI'], axis=1)\n",
    "df_aboutus_text = df[df['aboutus_text'].notnull()][['aboutus_text', 'AI']].set_axis( ['text', 'AI'], axis=1)\n",
    "df_overview_text = df[df['overview_text'].notnull()][['overview_text', 'AI']].set_axis( ['text', 'AI'], axis=1)\n",
    "df_whatwedo_text = df[df['whatwedo_text'].notnull()][['whatwedo_text', 'AI']].set_axis( ['text', 'AI'], axis=1)\n",
    "df_company_text = df[df['company_text'].notnull()][['company_text', 'AI']].set_axis( ['text', 'AI'], axis=1)\n",
    "df_whoweare_text = df[df['whoweare_text'].notnull()][['whoweare_text', 'AI']].set_axis( ['text', 'AI'], axis=1)"
   ]
  },
  {
   "cell_type": "code",
   "execution_count": 11,
   "metadata": {},
   "outputs": [],
   "source": [
    "df = pd.concat([df_home_text, df_aboutus_text, df_overview_text, df_whatwedo_text, df_company_text, df_whoweare_text], axis=0, ignore_index=True)\n",
    "df = df.sample(frac=1)"
   ]
  },
  {
   "cell_type": "code",
   "execution_count": 12,
   "metadata": {},
   "outputs": [],
   "source": [
    "X = df['text'].values.astype(str)\n",
    "y = df[TARGET].values"
   ]
  },
  {
   "cell_type": "code",
   "execution_count": 13,
   "metadata": {},
   "outputs": [
    {
     "name": "stdout",
     "output_type": "stream",
     "text": [
      "Wall time: 43.3 s\n"
     ]
    }
   ],
   "source": [
    "%%time\n",
    "\n",
    "X = remove_non_alphabets(X)\n",
    "X = create_corpus(X)\n",
    "X = remove_stopwords(X)\n",
    "X = lemmatize(X)\n",
    "# X = remove_unnecessary_words(X)"
   ]
  },
  {
   "cell_type": "code",
   "execution_count": 14,
   "metadata": {},
   "outputs": [],
   "source": [
    "X_train, X_test, y_train, y_test = train_test_split(X, y, test_size=0.1, random_state=SEED)"
   ]
  },
  {
   "cell_type": "code",
   "execution_count": 15,
   "metadata": {},
   "outputs": [],
   "source": [
    "input_length = 100\n",
    "tokenizer, X_train_processed  = tokenize_and_pad(X_train)\n",
    "X_test_processed = tokenize_and_pad(X_test, tokenizer)\n",
    "\n",
    "input_dim = len(tokenizer.word_index)+1\n",
    "output_dim = 100"
   ]
  },
  {
   "cell_type": "code",
   "execution_count": 16,
   "metadata": {},
   "outputs": [],
   "source": [
    "# embedding_dict = {}\n",
    "# word_index = tokenizer.word_index\n",
    "# with open('glove.6B.100d.txt','r', encoding=\"utf8\") as f:\n",
    "#     for line in f:\n",
    "#         values = line.split()\n",
    "#         word = values[0]\n",
    "#         vectors = np.asarray(values[1:], 'float32')\n",
    "#         embedding_dict[word] = vectors\n",
    "\n",
    "# max_words = input_dim\n",
    "# embedding_dims = output_dim\n",
    "\n",
    "# embedding_matrix = np.zeros((max_words, embedding_dims))\n",
    "# for word, i in word_index.items():\n",
    "#     if i > max_words:\n",
    "#         continue\n",
    "        \n",
    "#     emb_vec = embedding_dict.get(word)    \n",
    "#     if emb_vec is not None:\n",
    "#         embedding_matrix[i] = emb_vec  "
   ]
  },
  {
   "cell_type": "code",
   "execution_count": 17,
   "metadata": {},
   "outputs": [],
   "source": [
    "#, embeddings_initializer=tf.keras.initializers.Constant(embedding_matrix)"
   ]
  },
  {
   "cell_type": "code",
   "execution_count": 52,
   "metadata": {},
   "outputs": [],
   "source": [
    "def make_model(input_dim, output_dim, input_length, lr=1e-5):\n",
    "    model = tf.keras.models.Sequential([\n",
    "        tf.keras.layers.Embedding(input_dim, output_dim, input_length=input_length),\n",
    "        tf.keras.layers.Bidirectional(tf.keras.layers.LSTM(4, activation='tanh', return_sequences=False, kernel_regularizer=regularizers.l2(0.01))),\n",
    "        tf.keras.layers.Dropout(0.4),\n",
    "        tf.keras.layers.Dense(1, activation='sigmoid')\n",
    "    ])\n",
    "    model.compile(optimizer=Adam(lr=lr), loss='binary_crossentropy', metrics=['accuracy'])\n",
    "    return model\n",
    "\n",
    "\n",
    "def train_model(model, callbacks, verbose=0):\n",
    "    history = model.fit(X_train_processed, y_train, validation_split=0.1, epochs=EPOCHS, batch_size=BATCH_SIZE, callbacks=callbacks, verbose=verbose)\n",
    "    return history"
   ]
  },
  {
   "cell_type": "code",
   "execution_count": 53,
   "metadata": {},
   "outputs": [],
   "source": [
    "def repeat_training(callbacks, times=30):\n",
    "    \"\"\"Repeat trainig to get an estimate results\"\"\"\n",
    "    scores = pd.DataFrame(columns=['N', 'train_loss', 'train_acc', 'val_loss', 'val_acc'])\n",
    "    for i in range(1, times+1):\n",
    "        model = make_model(input_dim, output_dim, input_length)\n",
    "\n",
    "        model.compile(loss=\"binary_crossentropy\",\n",
    "                           optimizer=\"adam\",\n",
    "                           metrics=[\"accuracy\"])\n",
    "    \n",
    "        history = train_model(model, callbacks, 0)\n",
    "        \n",
    "        train_loss, train_acc = model.evaluate(X_train_processed, y_train, verbose=0)\n",
    "        test_loss, test_acc = model.evaluate(X_test_processed, y_test, verbose=0)\n",
    "        \n",
    "        scores.loc[i, 'N'] = i\n",
    "        scores.loc[i, 'train_loss'] = train_loss\n",
    "        scores.loc[i, 'train_acc'] = train_acc\n",
    "        scores.loc[i, 'test_loss'] = test_loss\n",
    "        scores.loc[i, 'test_acc'] = test_acc\n",
    "        \n",
    "    scores['train_loss'] = scores['train_loss'].astype(float)\n",
    "    scores['train_acc'] = scores['train_acc'].astype(float)\n",
    "    scores['test_loss'] = scores['test_loss'].astype(float)\n",
    "    scores['test_acc'] = scores['test_acc'].astype(float)\n",
    "    \n",
    "    print(f\"Train Acc: {scores['train_acc'].mean():.23f} \\nTest Acc: {scores['test_acc'].mean():.3f}\")\n",
    "    return scores"
   ]
  },
  {
   "cell_type": "code",
   "execution_count": 54,
   "metadata": {},
   "outputs": [
    {
     "name": "stdout",
     "output_type": "stream",
     "text": [
      "Model: \"sequential_2\"\n",
      "_________________________________________________________________\n",
      "Layer (type)                 Output Shape              Param #   \n",
      "=================================================================\n",
      "embedding_5 (Embedding)      (None, 100, 100)          9372500   \n",
      "_________________________________________________________________\n",
      "bidirectional_2 (Bidirection (None, 8)                 3360      \n",
      "_________________________________________________________________\n",
      "dropout_2 (Dropout)          (None, 8)                 0         \n",
      "_________________________________________________________________\n",
      "dense_2 (Dense)              (None, 1)                 9         \n",
      "=================================================================\n",
      "Total params: 9,375,869\n",
      "Trainable params: 9,375,869\n",
      "Non-trainable params: 0\n",
      "_________________________________________________________________\n"
     ]
    }
   ],
   "source": [
    "model = make_model(input_dim, output_dim, input_length, lr=1e-4)\n",
    "# model = make_model(input_dim=10000, output_dim=50, input_length=50, lr=1e-4)\n",
    "\n",
    "model.summary()"
   ]
  },
  {
   "cell_type": "code",
   "execution_count": 55,
   "metadata": {},
   "outputs": [
    {
     "name": "stdout",
     "output_type": "stream",
     "text": [
      "779/779 [==============================] - 1s 955us/sample - loss: 1.2420 - accuracy: 0.4929\n"
     ]
    },
    {
     "data": {
      "text/plain": [
       "[1.2420058320820409, 0.49293968]"
      ]
     },
     "execution_count": 55,
     "metadata": {},
     "output_type": "execute_result"
    }
   ],
   "source": [
    "model.evaluate(X_test_processed, y_test)"
   ]
  },
  {
   "cell_type": "code",
   "execution_count": 56,
   "metadata": {},
   "outputs": [
    {
     "name": "stdout",
     "output_type": "stream",
     "text": [
      "Train on 6302 samples, validate on 701 samples\n",
      "Epoch 1/40\n",
      "6302/6302 [==============================] - 11s 2ms/sample - loss: 1.2073 - accuracy: 0.5238 - val_loss: 1.1721 - val_accuracy: 0.5906\n",
      "Epoch 2/40\n",
      "6302/6302 [==============================] - 8s 1ms/sample - loss: 1.1410 - accuracy: 0.6073 - val_loss: 1.1106 - val_accuracy: 0.6220\n",
      "Epoch 3/40\n",
      "6302/6302 [==============================] - 8s 1ms/sample - loss: 1.0822 - accuracy: 0.6541 - val_loss: 1.0561 - val_accuracy: 0.6662\n",
      "Epoch 4/40\n",
      "6302/6302 [==============================] - 8s 1ms/sample - loss: 1.0293 - accuracy: 0.7015 - val_loss: 1.0072 - val_accuracy: 0.6847\n",
      "Epoch 5/40\n",
      "6302/6302 [==============================] - 9s 1ms/sample - loss: 0.9820 - accuracy: 0.7183 - val_loss: 0.9633 - val_accuracy: 0.6947\n",
      "Epoch 6/40\n",
      "6302/6302 [==============================] - 8s 1ms/sample - loss: 0.9387 - accuracy: 0.7404 - val_loss: 0.9229 - val_accuracy: 0.7104\n",
      "Epoch 7/40\n",
      "6302/6302 [==============================] - 8s 1ms/sample - loss: 0.8983 - accuracy: 0.7452 - val_loss: 0.8847 - val_accuracy: 0.7204\n",
      "Epoch 8/40\n",
      "6302/6302 [==============================] - 8s 1ms/sample - loss: 0.8584 - accuracy: 0.7601 - val_loss: 0.8451 - val_accuracy: 0.7404\n",
      "Epoch 9/40\n",
      "6302/6302 [==============================] - 8s 1ms/sample - loss: 0.8103 - accuracy: 0.7745 - val_loss: 0.7929 - val_accuracy: 0.7432\n",
      "Epoch 10/40\n",
      "6302/6302 [==============================] - 10s 2ms/sample - loss: 0.7385 - accuracy: 0.7871 - val_loss: 0.7065 - val_accuracy: 0.7732\n",
      "Epoch 11/40\n",
      "6302/6302 [==============================] - 8s 1ms/sample - loss: 0.6312 - accuracy: 0.8312 - val_loss: 0.6297 - val_accuracy: 0.8003\n",
      "Epoch 12/40\n",
      "6302/6302 [==============================] - 9s 1ms/sample - loss: 0.5570 - accuracy: 0.8554 - val_loss: 0.5872 - val_accuracy: 0.8117\n",
      "Epoch 13/40\n",
      "6302/6302 [==============================] - 8s 1ms/sample - loss: 0.5083 - accuracy: 0.8781 - val_loss: 0.5604 - val_accuracy: 0.8146\n",
      "Epoch 14/40\n",
      "6302/6302 [==============================] - 8s 1ms/sample - loss: 0.4687 - accuracy: 0.8913 - val_loss: 0.5416 - val_accuracy: 0.8160\n",
      "Epoch 15/40\n",
      "6302/6302 [==============================] - 8s 1ms/sample - loss: 0.4383 - accuracy: 0.9019 - val_loss: 0.5173 - val_accuracy: 0.8302\n",
      "Epoch 16/40\n",
      "6302/6302 [==============================] - 7s 1ms/sample - loss: 0.4117 - accuracy: 0.9092 - val_loss: 0.5057 - val_accuracy: 0.8260\n",
      "Epoch 17/40\n",
      "6302/6302 [==============================] - 7s 1ms/sample - loss: 0.3917 - accuracy: 0.9130 - val_loss: 0.5008 - val_accuracy: 0.8203\n",
      "Epoch 18/40\n",
      "6302/6302 [==============================] - 7s 1ms/sample - loss: 0.3744 - accuracy: 0.9183 - val_loss: 0.4898 - val_accuracy: 0.8217\n",
      "Epoch 19/40\n",
      "6302/6302 [==============================] - 7s 1ms/sample - loss: 0.3611 - accuracy: 0.9180 - val_loss: 0.4831 - val_accuracy: 0.8274\n",
      "Epoch 20/40\n",
      "6302/6302 [==============================] - 7s 1ms/sample - loss: 0.3440 - accuracy: 0.9235 - val_loss: 0.4763 - val_accuracy: 0.8288\n",
      "Epoch 21/40\n",
      "6302/6302 [==============================] - 7s 1ms/sample - loss: 0.3317 - accuracy: 0.9292 - val_loss: 0.4761 - val_accuracy: 0.8231\n",
      "Epoch 22/40\n",
      "6302/6302 [==============================] - 8s 1ms/sample - loss: 0.3208 - accuracy: 0.9276 - val_loss: 0.4752 - val_accuracy: 0.8231\n",
      "Epoch 23/40\n",
      "6302/6302 [==============================] - 8s 1ms/sample - loss: 0.3160 - accuracy: 0.9276 - val_loss: 0.4676 - val_accuracy: 0.8245\n",
      "Epoch 24/40\n",
      "6302/6302 [==============================] - 7s 1ms/sample - loss: 0.3033 - accuracy: 0.9307 - val_loss: 0.4727 - val_accuracy: 0.8160\n",
      "Epoch 25/40\n",
      "6302/6302 [==============================] - 7s 1ms/sample - loss: 0.2945 - accuracy: 0.9326 - val_loss: 0.4674 - val_accuracy: 0.8146\n",
      "Wall time: 3min 24s\n"
     ]
    }
   ],
   "source": [
    "%%time\n",
    "checkpoint = tf.keras.callbacks.ModelCheckpoint('lstm_model.h5', monitor='val_accuracy', save_best_only=True)\n",
    "early_stoping = tf.keras.callbacks.EarlyStopping(monitor='val_accuracy', patience=10, restore_best_weights=True)\n",
    "reduce_lr = tf.keras.callbacks.ReduceLROnPlateau(monitor='val_loss', factor=0.1,\n",
    "                              patience=5, min_lr=1e-5, verbose=1)\n",
    "EPOCHS = 40\n",
    "BATCH_SIZE = 64\n",
    "callbacks = [early_stoping, checkpoint]\n",
    "\n",
    "# summary = repeat_training(callbacks, 10)\n",
    "history = train_model(model, callbacks, 1)"
   ]
  },
  {
   "cell_type": "code",
   "execution_count": 57,
   "metadata": {},
   "outputs": [
    {
     "name": "stdout",
     "output_type": "stream",
     "text": [
      "779/779 [==============================] - 0s 200us/sample - loss: 0.5173 - accuracy: 0.8241\n"
     ]
    },
    {
     "data": {
      "text/plain": [
       "[0.5172708318383458, 0.8241335]"
      ]
     },
     "execution_count": 57,
     "metadata": {},
     "output_type": "execute_result"
    }
   ],
   "source": [
    "model.evaluate(X_test_processed, y_test)"
   ]
  },
  {
   "cell_type": "code",
   "execution_count": 58,
   "metadata": {},
   "outputs": [],
   "source": [
    "# summary.describe()"
   ]
  },
  {
   "cell_type": "code",
   "execution_count": 59,
   "metadata": {},
   "outputs": [
    {
     "data": {
      "image/png": "[encoded data removed]",
      "text/plain": [
       "<Figure size 1440x576 with 2 Axes>"
      ]
     },
     "metadata": {
      "needs_background": "light"
     },
     "output_type": "display_data"
    }
   ],
   "source": [
    "train_loss = history.history['loss']         # train loss\n",
    "train_acc = history.history['accuracy']      # train accuracy\n",
    "val_loss = history.history['val_loss']       # validation loss\n",
    "val_acc = history.history['val_accuracy']    # validation accuracy\n",
    "\n",
    "# Plotting \n",
    "plt.figure(figsize=(20, 8))   # figure size\n",
    "\n",
    "plt.subplot(1, 2, 1)          # first plot: loss plot\n",
    "# line plot\n",
    "plt.plot( train_loss, label='train loss')   # train loss line plot\n",
    "plt.plot( val_loss, label='val loss')       # validation loss line plot\n",
    "\n",
    "plt.title('Loss')     # plot title\n",
    "plt.legend()          # to display labels\n",
    "\n",
    "plt.subplot(1, 2, 2)         # second plot: accuracy plot\n",
    "# line plot\n",
    "plt.plot(train_acc, label='train accuracy')    # train accuracy line plot\n",
    "plt.plot(val_acc, label='val accuracy')        # validation accuracy line plot\n",
    "\n",
    "plt.title('Accuracy')    # plot title\n",
    "plt.legend()             # to display labels\n",
    "plt.show();"
   ]
  },
  {
   "cell_type": "code",
   "execution_count": null,
   "metadata": {},
   "outputs": [],
   "source": [
    "# summary.describe()"
   ]
  },
  {
   "cell_type": "code",
   "execution_count": null,
   "metadata": {},
   "outputs": [],
   "source": [
    "# model.evaluate(X_test_processed, y_test)\n",
    "preds = model.predict(X_test_processed).round().astype(int)"
   ]
  },
  {
   "cell_type": "code",
   "execution_count": null,
   "metadata": {},
   "outputs": [],
   "source": [
    "conf = confusion_matrix(y_test, preds)\n",
    "sns.heatmap(conf, annot=True);\n",
    "plt.xlabel('Predicted')\n",
    "plt.ylabel('Actual');"
   ]
  }
 ],
 "metadata": {
  "kernelspec": {
   "display_name": "Python 3.7 (tensorflow)",
   "language": "python",
   "name": "tensorflow"
  },
  "language_info": {
   "codemirror_mode": {
    "name": "ipython",
    "version": 3
   },
   "file_extension": ".py",
   "mimetype": "text/x-python",
   "name": "python",
   "nbconvert_exporter": "python",
   "pygments_lexer": "ipython3",
   "version": "3.7.9"
  }
 },
 "nbformat": 4,
 "nbformat_minor": 4
}
